{
 "cells": [
  {
   "cell_type": "code",
   "execution_count": 19,
   "metadata": {},
   "outputs": [],
   "source": [
    "import os\n",
    "import itertools\n",
    "from pathlib import Path\n",
    "import numpy as np\n",
    "import pandas as pd\n",
    "import \n",
    "from PIL import Image\n"
   ]
  },
  {
   "attachments": {},
   "cell_type": "markdown",
   "metadata": {},
   "source": [
    "## Loading in image data\n",
    "\n",
    "First we need to load in all the image data from the `./data` folder. These images are in TIFF format that will be used to create a coordinate system and able to\n",
    "\n",
    "This will be implemented as a `generator` in order to save memory.\n"
   ]
  },
  {
   "cell_type": "code",
   "execution_count": 5,
   "metadata": {},
   "outputs": [],
   "source": [
    "# def load_tiff_images() -> np.ndarray:\n",
    "\n",
    "img_path = Path(\"./data/cell_image_2.tiff\")\n",
    "if not img_path.exists():\n",
    "    raise FileNotFoundError(f\"Unable to find: {str(img_path)}\")\n",
    "if img_path.suffix == \"tiff\":\n",
    "    raise TypeError(f\"Image must be .tiff format not {img_path.suffix}\")\n",
    "\n",
    "tiff_img = Image.open(img_path)\n",
    "tiff_arr = np.array(tiff_img)\n"
   ]
  },
  {
   "cell_type": "code",
   "execution_count": 22,
   "metadata": {},
   "outputs": [
    {
     "data": {
      "text/plain": [
       "(1600, 902)"
      ]
     },
     "execution_count": 22,
     "metadata": {},
     "output_type": "execute_result"
    }
   ],
   "source": [
    "tiff_img.size\n"
   ]
  },
  {
   "cell_type": "code",
   "execution_count": 23,
   "metadata": {},
   "outputs": [
    {
     "ename": "SyntaxError",
     "evalue": "expected ':' (2090744851.py, line 1)",
     "output_type": "error",
     "traceback": [
      "\u001b[0;36m  Cell \u001b[0;32mIn[23], line 1\u001b[0;36m\u001b[0m\n\u001b[0;31m    def crop_image(fpath: str| Path, crop_width: int, crop_height: int ) -> Sequence[]:\u001b[0m\n\u001b[0m                                                                                    ^\u001b[0m\n\u001b[0;31mSyntaxError\u001b[0m\u001b[0;31m:\u001b[0m expected ':'\n"
     ]
    }
   ],
   "source": [
    "def crop_image(fpath: str| Path, crop_width: int, crop_height: int ) -> List[]:\n",
    "    \"\"\"Crops images based on the given crop dimensions. Images are saved within fo\n",
    "\n",
    "    Parameters\n",
    "    ----------\n",
    "    fpath : str | Path\n",
    "        path to image\n",
    "    crop_width : int\n",
    "        crop width\n",
    "    crop_height : int\n",
    "        crop height\n",
    "    \n",
    "    Returns\n",
    "    -------\n",
    "    List[]\n",
    "        Generates a directory containing all the cropped images. The images will\n",
    "        have the source name along with image number id.\n",
    "    \"\"\"\n",
    "    # type checking\n",
    "    accepted_types = (str, Path)\n",
    "    if not isinstance(fpath, accepted_types):\n",
    "        _type = type(fpath)\n",
    "        raise TypeError(f\"'fpath' must str or path type not {_type}\")\n",
    "    # change to Path type if string\n",
    "    if isinstance(fpath, str):\n",
    "        fpath = Path(fpath)\n",
    "    # checking crop width inputs\n",
    "    if not isinstance(crop_height, int):\n",
    "        raise TypeError(f\"'crop_height' must integer not {type(crop_height)}\")\n",
    "    if not isinstance(crop_width, int):\n",
    "        raise TypeError(f\"'crop_width' must integer not {type(crop_height)}\")\n",
    "\n",
    "    # creating saving path\n",
    "    source_name = fpath.stem\n",
    "\n",
    "    # setting up crop dimensions\n",
    "    crop_w, crop_h = (64, )\n",
    "    savedir= Path(\"test_split\")\n",
    "    savedir.mkdir(exist_ok=True)\n",
    "\n",
    "\n",
    "    # setting up cropping dimensions \n",
    "    x, y = (0, 0)\n",
    "    width, height = tiff_img.size\n",
    "    width_range_crop = range(0, width, crop_width)\n",
    "    height_range_crop = range(0, height, crop_height)\n",
    "\n",
    "    # selecting all images \n",
    "    # remove the ones that do not have the desired \n",
    "    \n",
    "    # -- this will store image information indicating which images were selected\n",
    "    # -- based on \n",
    "    # NOTE: make sure to download crop size, source, and id\n",
    "    list_of_cropped_images = []\n",
    "    for frame_num, (col_i, row_i) in enumerate(itertools.product(width_range_crop, height_range_crop), start=1):\n",
    "\n",
    "        crop = tiff_img.crop((col_i, row_i, col_i + crop_width, row_i + crop_height))\n",
    "        save_to= os.path.join(str(savedir), \"counter_{:03}.tiff\")\n",
    "        crop.save(save_to.format(frame_num))"
   ]
  },
  {
   "cell_type": "code",
   "execution_count": 17,
   "metadata": {},
   "outputs": [],
   "source": [
    "img = Image.open(\"./test_split/counter_001.tiff\")\n",
    "img.show()\n"
   ]
  },
  {
   "cell_type": "code",
   "execution_count": 21,
   "metadata": {},
   "outputs": [
    {
     "data": {
      "text/plain": [
       "'counter_001'"
      ]
     },
     "execution_count": 21,
     "metadata": {},
     "output_type": "execute_result"
    }
   ],
   "source": [
    "Path(\"./test_split/counter_001.tiff\").stem\n"
   ]
  },
  {
   "cell_type": "code",
   "execution_count": 7,
   "metadata": {},
   "outputs": [
    {
     "ename": "NameError",
     "evalue": "name 'tiff_img' is not defined",
     "output_type": "error",
     "traceback": [
      "\u001b[0;31m---------------------------------------------------------------------------\u001b[0m",
      "\u001b[0;31mNameError\u001b[0m                                 Traceback (most recent call last)",
      "Cell \u001b[0;32mIn[7], line 3\u001b[0m\n\u001b[1;32m      1\u001b[0m \u001b[39m# Selecting random crop\u001b[39;00m\n\u001b[1;32m      2\u001b[0m \u001b[39m# setting up coordinates \u001b[39;00m\n\u001b[0;32m----> 3\u001b[0m x_max, y_max \u001b[39m=\u001b[39m tiff_img\u001b[39m.\u001b[39msize\n\u001b[1;32m      5\u001b[0m \u001b[39m# bounding box \u001b[39;00m\n\u001b[1;32m      6\u001b[0m \u001b[39m#  (left, upper, right, lower)\u001b[39;00m\n\u001b[1;32m      7\u001b[0m box \u001b[39m=\u001b[39m (\u001b[39m0\u001b[39m, \u001b[39m0\u001b[39m, \u001b[39m500\u001b[39m, \u001b[39m500\u001b[39m)\n",
      "\u001b[0;31mNameError\u001b[0m: name 'tiff_img' is not defined"
     ]
    }
   ],
   "source": [
    "# Selecting random crop\n",
    "# setting up coordinates\n",
    "x_max, y_max = tiff_img.size\n",
    "\n",
    "# bounding box\n",
    "#  (left, upper, right, lower)\n",
    "box = (0, 0, 500, 500)\n",
    "size = 400\n",
    "\n",
    "# selected a random point\n",
    "x_rand = np.random.randint(0, x_max)\n",
    "y_rand = np.random.randint(0, y_max)\n",
    "\n",
    "print(x_rand, y_rand)\n"
   ]
  },
  {
   "attachments": {},
   "cell_type": "markdown",
   "metadata": {},
   "source": [
    "## Create a coordinate plane on images\n",
    "\n",
    "once the images are loaded\n"
   ]
  }
 ],
 "metadata": {
  "kernelspec": {
   "display_name": "macrophage-striation",
   "language": "python",
   "name": "python3"
  },
  "language_info": {
   "codemirror_mode": {
    "name": "ipython",
    "version": 3
   },
   "file_extension": ".py",
   "mimetype": "text/x-python",
   "name": "python",
   "nbconvert_exporter": "python",
   "pygments_lexer": "ipython3",
   "version": "3.11.0"
  },
  "orig_nbformat": 4,
  "vscode": {
   "interpreter": {
    "hash": "04db14ac345d4890825c5eac5e15e8d454c68e836c790ddb03cf13c85454c698"
   }
  }
 },
 "nbformat": 4,
 "nbformat_minor": 2
}
