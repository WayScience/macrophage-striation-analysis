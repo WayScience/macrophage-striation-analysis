{
 "cells": [
  {
   "cell_type": "code",
   "execution_count": 14,
   "metadata": {},
   "outputs": [],
   "source": [
    "from pathlib import Path\n",
    "import numpy as np\n",
    "import pandas as pd\n",
    "\n",
    "from PIL import Image "
   ]
  },
  {
   "attachments": {},
   "cell_type": "markdown",
   "metadata": {},
   "source": [
    "## Loading in image data\n",
    "\n",
    "First we need to load in all the image data from the `./data` folder. These images are in TIFF format that will be used to create a coordinate system and able to \n",
    "\n",
    "This will be implemented as a `generator` in order to save memory."
   ]
  },
  {
   "cell_type": "code",
   "execution_count": 19,
   "metadata": {},
   "outputs": [],
   "source": [
    "# def load_tiff_images() -> np.ndarray:\n",
    "\n",
    "img_path = Path(\"../data/cell_image_1.tiff\")\n",
    "if not img_path.exists():\n",
    "    raise FileNotFoundError(f\"Unable to find: {str(img_path)}\")\n",
    "if img_path.suffix == \"tiff\":\n",
    "    raise TypeError(f\"Image must be .tiff format not {img_path.suffix}\")\n",
    "\n",
    "tiff_img = Image.open(img_path)\n",
    "tiff_arr = np.array(tiff_img)"
   ]
  },
  {
   "cell_type": "code",
   "execution_count": 22,
   "metadata": {},
   "outputs": [
    {
     "name": "stdout",
     "output_type": "stream",
     "text": [
      "2010 1061\n"
     ]
    }
   ],
   "source": [
    "# b\n",
    "# setting up coordinates \n",
    "x_max, y_max = tiff_img.size\n",
    "x_lim, y_lim = (0,0)\n",
    "\n",
    "# bounding box \n",
    "#  (left, upper, right, lower)\n",
    "box = (0, 0, 500, 500)\n",
    "shift = 300\n",
    "\n",
    "\n",
    "# selected a random point\n",
    "x_rand = np.random.randint(0, x_max)\n",
    "y_rand = np.random.randint(0, y_max)\n",
    "\n"
   ]
  },
  {
   "attachments": {},
   "cell_type": "markdown",
   "metadata": {},
   "source": [
    "## Create a coordinate plane on images \n",
    "\n",
    "once the images are loaded "
   ]
  }
 ],
 "metadata": {
  "kernelspec": {
   "display_name": "macrophage-striation",
   "language": "python",
   "name": "python3"
  },
  "language_info": {
   "codemirror_mode": {
    "name": "ipython",
    "version": 3
   },
   "file_extension": ".py",
   "mimetype": "text/x-python",
   "name": "python",
   "nbconvert_exporter": "python",
   "pygments_lexer": "ipython3",
   "version": "3.11.0"
  },
  "orig_nbformat": 4,
  "vscode": {
   "interpreter": {
    "hash": "04db14ac345d4890825c5eac5e15e8d454c68e836c790ddb03cf13c85454c698"
   }
  }
 },
 "nbformat": 4,
 "nbformat_minor": 2
}
