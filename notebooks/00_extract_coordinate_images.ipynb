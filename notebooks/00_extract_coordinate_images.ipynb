{
 "cells": [
  {
   "cell_type": "code",
   "execution_count": 1,
   "metadata": {},
   "outputs": [],
   "source": [
    "import sys\n",
    "from typing import List, Tuple, Optional, TypeGuard\n",
    "\n",
    "# user module imports\n",
    "sys.path.append(\"../\")\n",
    "from src.common._io import coord_to_json, load_tiff_images\n",
    "from src.utils.image_utils import image_crop_walk\n",
    "\n"
   ]
  },
  {
   "attachments": {},
   "cell_type": "markdown",
   "metadata": {},
   "source": [
    "## Loading in image data\n",
    "\n",
    "First we need to load in all the image data from the `./data` folder. These images are in TIFF format that will be used to create a coordinate system and able to\n",
    "\n",
    "This will be implemented as a `generator` in order to save memory.\n"
   ]
  },
  {
   "cell_type": "code",
   "execution_count": 2,
   "metadata": {},
   "outputs": [],
   "source": [
    "# load image data from directory\n",
    "loaded_imgs = load_tiff_images(img_dir=\"./sample_data\")"
   ]
  },
  {
   "cell_type": "code",
   "execution_count": 3,
   "metadata": {},
   "outputs": [],
   "source": [
    "# getting all cropped images meta data into\n",
    "# -- here we want images with a size of 256 by 256\n",
    "cropped_images_list = []\n",
    "for image_obj in loaded_imgs:\n",
    "    cropped_images = image_crop_walk(image_obj, 256, 256)\n",
    "    cropped_images_list.append(cropped_images)\n"
   ]
  },
  {
   "attachments": {},
   "cell_type": "markdown",
   "metadata": {},
   "source": [
    "## Writing out ImageCropSelection Objects into JSON file\n",
    "\n",
    "Now that we have a list of metadata associated with each crop of the source image, we can write it out into a JSON file, which will be used for our GUI to read and select. \n",
    "\n",
    "Here we are using a function called `coord_to_json` that can be found in the `src/common/_io.py` module. Writes out the array of `ImageCropSelection` objects into JSON format. The function will return the `Path` object where the `JSON` file was saved."
   ]
  },
  {
   "cell_type": "code",
   "execution_count": 4,
   "metadata": {},
   "outputs": [
    {
     "data": {
      "text/plain": [
       "PosixPath('/Users/erikserrano/Development/Projects/macrophage-striation-analysis/notebooks/test_image_coords.json')"
      ]
     },
     "execution_count": 4,
     "metadata": {},
     "output_type": "execute_result"
    }
   ],
   "source": [
    "json_path = coord_to_json(cropped_images_list, outname=\"test_image_coords\")\n",
    "json_path"
   ]
  }
 ],
 "metadata": {
  "kernelspec": {
   "display_name": "macrophage-striation",
   "language": "python",
   "name": "python3"
  },
  "language_info": {
   "codemirror_mode": {
    "name": "ipython",
    "version": 3
   },
   "file_extension": ".py",
   "mimetype": "text/x-python",
   "name": "python",
   "nbconvert_exporter": "python",
   "pygments_lexer": "ipython3",
   "version": "3.10.8"
  },
  "orig_nbformat": 4,
  "vscode": {
   "interpreter": {
    "hash": "04db14ac345d4890825c5eac5e15e8d454c68e836c790ddb03cf13c85454c698"
   }
  }
 },
 "nbformat": 4,
 "nbformat_minor": 2
}
